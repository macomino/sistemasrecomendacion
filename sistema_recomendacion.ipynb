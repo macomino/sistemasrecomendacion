{
 "cells": [
  {
   "cell_type": "code",
   "execution_count": 1,
   "metadata": {},
   "outputs": [
    {
     "name": "stderr",
     "output_type": "stream",
     "text": [
      "C:\\Users\\barde\\Anaconda3\\lib\\importlib\\_bootstrap.py:219: RuntimeWarning: numpy.ufunc size changed, may indicate binary incompatibility. Expected 192 from C header, got 216 from PyObject\n",
      "  return f(*args, **kwds)\n"
     ]
    }
   ],
   "source": [
    "%matplotlib inline\n",
    "import numpy as np\n",
    "import pandas as pd\n",
    "import os"
   ]
  },
  {
   "cell_type": "markdown",
   "metadata": {},
   "source": [
    "## Load data"
   ]
  },
  {
   "cell_type": "code",
   "execution_count": 4,
   "metadata": {},
   "outputs": [],
   "source": [
    "data_root = './../ml-100k'\n",
    "readme = os.path.join(data_root, 'README')\n",
    "#!type $readme"
   ]
  },
  {
   "cell_type": "code",
   "execution_count": 7,
   "metadata": {},
   "outputs": [],
   "source": [
    "column = ['user_id', 'item_id', 'rating', 'timestamp']\n",
    "datafile = os.path.join(data_root, 'u.data')\n",
    "data = pd.read_csv(datafile, sep='\\t', names=column)"
   ]
  },
  {
   "cell_type": "code",
   "execution_count": 8,
   "metadata": {},
   "outputs": [
    {
     "data": {
      "text/html": [
       "<div>\n",
       "<style scoped>\n",
       "    .dataframe tbody tr th:only-of-type {\n",
       "        vertical-align: middle;\n",
       "    }\n",
       "\n",
       "    .dataframe tbody tr th {\n",
       "        vertical-align: top;\n",
       "    }\n",
       "\n",
       "    .dataframe thead th {\n",
       "        text-align: right;\n",
       "    }\n",
       "</style>\n",
       "<table border=\"1\" class=\"dataframe\">\n",
       "  <thead>\n",
       "    <tr style=\"text-align: right;\">\n",
       "      <th></th>\n",
       "      <th>user_id</th>\n",
       "      <th>item_id</th>\n",
       "      <th>rating</th>\n",
       "      <th>timestamp</th>\n",
       "    </tr>\n",
       "  </thead>\n",
       "  <tbody>\n",
       "    <tr>\n",
       "      <th>0</th>\n",
       "      <td>196</td>\n",
       "      <td>242</td>\n",
       "      <td>3</td>\n",
       "      <td>881250949</td>\n",
       "    </tr>\n",
       "    <tr>\n",
       "      <th>1</th>\n",
       "      <td>186</td>\n",
       "      <td>302</td>\n",
       "      <td>3</td>\n",
       "      <td>891717742</td>\n",
       "    </tr>\n",
       "    <tr>\n",
       "      <th>2</th>\n",
       "      <td>22</td>\n",
       "      <td>377</td>\n",
       "      <td>1</td>\n",
       "      <td>878887116</td>\n",
       "    </tr>\n",
       "    <tr>\n",
       "      <th>3</th>\n",
       "      <td>244</td>\n",
       "      <td>51</td>\n",
       "      <td>2</td>\n",
       "      <td>880606923</td>\n",
       "    </tr>\n",
       "    <tr>\n",
       "      <th>4</th>\n",
       "      <td>166</td>\n",
       "      <td>346</td>\n",
       "      <td>1</td>\n",
       "      <td>886397596</td>\n",
       "    </tr>\n",
       "  </tbody>\n",
       "</table>\n",
       "</div>"
      ],
      "text/plain": [
       "   user_id  item_id  rating  timestamp\n",
       "0      196      242       3  881250949\n",
       "1      186      302       3  891717742\n",
       "2       22      377       1  878887116\n",
       "3      244       51       2  880606923\n",
       "4      166      346       1  886397596"
      ]
     },
     "execution_count": 8,
     "metadata": {},
     "output_type": "execute_result"
    }
   ],
   "source": [
    "data.head()"
   ]
  },
  {
   "cell_type": "code",
   "execution_count": 10,
   "metadata": {},
   "outputs": [
    {
     "data": {
      "text/plain": [
       "array([[ 196,  242,    3],\n",
       "       [ 186,  302,    3],\n",
       "       [  22,  377,    1],\n",
       "       ...,\n",
       "       [ 276, 1090,    1],\n",
       "       [  13,  225,    2],\n",
       "       [  12,  203,    3]], dtype=int64)"
      ]
     },
     "execution_count": 10,
     "metadata": {},
     "output_type": "execute_result"
    }
   ],
   "source": [
    "data.values[:, :3]"
   ]
  },
  {
   "cell_type": "code",
   "execution_count": 11,
   "metadata": {},
   "outputs": [
    {
     "data": {
      "text/plain": [
       "(100000, 4)"
      ]
     },
     "execution_count": 11,
     "metadata": {},
     "output_type": "execute_result"
    }
   ],
   "source": [
    "data.values.shape"
   ]
  },
  {
   "cell_type": "code",
   "execution_count": 19,
   "metadata": {},
   "outputs": [
    {
     "name": "stdout",
     "output_type": "stream",
     "text": [
      "943 users\n",
      "1682 items\n"
     ]
    }
   ],
   "source": [
    "n_users = data.user_id.unique().shape[0]\n",
    "n_items = data.item_id.unique().shape[0]\n",
    "print('%s users\\n%s items' % (n_users, n_items))"
   ]
  },
  {
   "cell_type": "code",
   "execution_count": 22,
   "metadata": {},
   "outputs": [
    {
     "name": "stdout",
     "output_type": "stream",
     "text": [
      "Sparsicity value:  0.06304669364224531\n"
     ]
    }
   ],
   "source": [
    "print('Sparsicity value: ', data.values.shape[0] / float(n_users * n_items))"
   ]
  },
  {
   "cell_type": "code",
   "execution_count": 24,
   "metadata": {},
   "outputs": [],
   "source": [
    "items_id_file=os.path.join(data_root, 'u.item')\n"
   ]
  },
  {
   "cell_type": "code",
   "execution_count": 33,
   "metadata": {},
   "outputs": [],
   "source": [
    "item_dict = {}\n",
    "with open(items_id_file, 'rb') as f:\n",
    "    for line in f.readlines():\n",
    "        record = line.split(b'|')\n",
    "        item_dict[int(record[0])] = str(record[1])"
   ]
  },
  {
   "cell_type": "code",
   "execution_count": 37,
   "metadata": {},
   "outputs": [
    {
     "name": "stdout",
     "output_type": "stream",
     "text": [
      "User 196 viewer b'Kolya (1996)' and gave a rating 3 rating \n",
      "User 186 viewer b'L.A. Confidential (1997)' and gave a rating 3 rating \n",
      "User 22 viewer b'Heavyweights (1994)' and gave a rating 1 rating \n",
      "User 244 viewer b'Legends of the Fall (1994)' and gave a rating 2 rating \n",
      "User 166 viewer b'Jackie Brown (1997)' and gave a rating 1 rating \n",
      "User 298 viewer b'Dr. Strangelove or: How I Learned to Stop Worrying and Love the Bomb (1963)' and gave a rating 4 rating \n",
      "User 115 viewer b'Hunt for Red October, The (1990)' and gave a rating 2 rating \n",
      "User 253 viewer b'Jungle Book, The (1994)' and gave a rating 5 rating \n",
      "User 305 viewer b'Grease (1978)' and gave a rating 3 rating \n",
      "User 6 viewer b'Remains of the Day, The (1993)' and gave a rating 3 rating \n",
      "User 62 viewer b'Men in Black (1997)' and gave a rating 2 rating \n",
      "User 286 viewer b\"Romy and Michele's High School Reunion (1997)\" and gave a rating 5 rating \n",
      "User 200 viewer b'Star Trek: First Contact (1996)' and gave a rating 5 rating \n",
      "User 210 viewer b'To Wong Foo, Thanks for Everything! Julie Newmar (1995)' and gave a rating 3 rating \n",
      "User 224 viewer b'Batman Forever (1995)' and gave a rating 3 rating \n",
      "User 303 viewer b'Only You (1994)' and gave a rating 3 rating \n",
      "User 122 viewer b'Age of Innocence, The (1993)' and gave a rating 5 rating \n",
      "User 194 viewer b'Sabrina (1995)' and gave a rating 2 rating \n",
      "User 291 viewer b'Just Cause (1995)' and gave a rating 4 rating \n",
      "User 234 viewer b'Endless Summer 2, The (1994)' and gave a rating 2 rating \n"
     ]
    }
   ],
   "source": [
    "for record in data.values[:20]:\n",
    "    print('User {u} viewer {m} and gave a rating {r} rating '.format(u=record[0], m=item_dict[record[1]], r=record[2]))\n"
   ]
  },
  {
   "cell_type": "code",
   "execution_count": 39,
   "metadata": {},
   "outputs": [],
   "source": [
    "def returnItemId(text, ids):\n",
    "    text_ = text.lower()\n",
    "    search = [(k, v.lower().find(text)) for k, v in list(ids.items())]\n",
    "    return"
   ]
  },
  {
   "cell_type": "code",
   "execution_count": null,
   "metadata": {},
   "outputs": [],
   "source": []
  }
 ],
 "metadata": {
  "kernelspec": {
   "display_name": "Python 3",
   "language": "python",
   "name": "python3"
  },
  "language_info": {
   "codemirror_mode": {
    "name": "ipython",
    "version": 3
   },
   "file_extension": ".py",
   "mimetype": "text/x-python",
   "name": "python",
   "nbconvert_exporter": "python",
   "pygments_lexer": "ipython3",
   "version": "3.6.8"
  }
 },
 "nbformat": 4,
 "nbformat_minor": 2
}
